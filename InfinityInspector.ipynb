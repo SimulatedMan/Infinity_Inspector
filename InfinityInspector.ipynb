{
 "cells": [
  {
   "cell_type": "code",
   "execution_count": null,
   "metadata": {},
   "outputs": [],
   "source": [
    "# Only needed for development\n",
    "%load_ext autoreload\n",
    "%autoreload 2"
   ]
  },
  {
   "cell_type": "code",
   "execution_count": null,
   "metadata": {},
   "outputs": [],
   "source": [
    "import loader"
   ]
  },
  {
   "cell_type": "code",
   "execution_count": null,
   "metadata": {},
   "outputs": [],
   "source": [
    "loader.download_armies(loader.get_army_names())"
   ]
  },
  {
   "cell_type": "code",
   "execution_count": null,
   "metadata": {},
   "outputs": [],
   "source": [
    "armies = loader.load_downloaded_files(['yu_jing', 'haqqislam']) # Calling with no arguments will load all downloaded armies"
   ]
  },
  {
   "cell_type": "code",
   "execution_count": null,
   "metadata": {},
   "outputs": [],
   "source": [
    "sort_list = ['points', 'swc', 'ava']"
   ]
  },
  {
   "cell_type": "code",
   "execution_count": null,
   "metadata": {},
   "outputs": [],
   "source": [
    "haq_df = armies['haqqislam']\n",
    "yu_df = armies['yu_jing']"
   ]
  },
  {
   "cell_type": "code",
   "execution_count": null,
   "metadata": {},
   "outputs": [],
   "source": [
    "haq_df[haq_df['type']=='HI'].sort_values(['points', 'swc', 'ava']) #Get all heavy infantry profiles in haqqislam and sort by points, swc and ava"
   ]
  },
  {
   "cell_type": "code",
   "execution_count": null,
   "metadata": {},
   "outputs": [],
   "source": [
    "# Get all profiles in Yu Jing with either more than 2 in armour, or bioimmunity and more than 2 bts. Limit to profiles that cost less than 25 points. \n",
    "# (aka: the \"Why might I want a Zhanying\"-query)\n",
    "yu_df[((yu_df['arm'] > 2) | ((yu_df['bts'] > 2) & (yu_df.sk('Bioimmunity')))) & (yu_df['points'] < 25)].sort_values(['points'])"
   ]
  },
  {
   "cell_type": "code",
   "execution_count": null,
   "metadata": {},
   "outputs": [],
   "source": [
    "yu_df[yu_df.has_skill('Triangulated Fire')] #The methods .has_skill(), .has_weapon(), .has_equipment(), and .has_name() are aliased by .sk(), .wpn(), .eq(), and .nm() respectively."
   ]
  },
  {
   "cell_type": "code",
   "execution_count": null,
   "metadata": {},
   "outputs": [],
   "source": [
    "yu_df[(yu_df.nm('wu ming') | yu_df.nm('zuyong'))].sort_values('points') #Skill, Weapon, Equipment, and profile name checks are case insensitive and ignore diacritics."
   ]
  },
  {
   "cell_type": "code",
   "execution_count": null,
   "metadata": {},
   "outputs": [],
   "source": [
    "yu_df[yu_df['type']=='MI'].sort_values(sort_list)"
   ]
  },
  {
   "cell_type": "code",
   "execution_count": null,
   "metadata": {},
   "outputs": [],
   "source": []
  }
 ],
 "metadata": {
  "kernelspec": {
   "display_name": "Python 3",
   "language": "python",
   "name": "python3"
  },
  "language_info": {
   "codemirror_mode": {
    "name": "ipython",
    "version": 3
   },
   "file_extension": ".py",
   "mimetype": "text/x-python",
   "name": "python",
   "nbconvert_exporter": "python",
   "pygments_lexer": "ipython3",
   "version": "3.7.2"
  }
 },
 "nbformat": 4,
 "nbformat_minor": 2
}
